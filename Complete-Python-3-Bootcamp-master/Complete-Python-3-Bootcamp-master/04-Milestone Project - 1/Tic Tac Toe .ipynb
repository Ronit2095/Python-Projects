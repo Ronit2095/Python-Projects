{
 "cells": [
  {
   "cell_type": "code",
   "execution_count": 1,
   "id": "23bc3db0",
   "metadata": {},
   "outputs": [],
   "source": [
    "# Dispalying the Board Data\n",
    "\n",
    "from IPython.display import clear_output\n",
    "\n",
    "def display_board(board):\n",
    "    clear_output()\n",
    "    print('   |   |')\n",
    "    print(' ' + board[7] + ' | ' + board[8] + ' | ' + board[9])\n",
    "    print('   |   |')\n",
    "    print('-----------')\n",
    "    print('   |   |')\n",
    "    print(' ' + board[4] + ' | ' + board[5] + ' | ' + board[6])\n",
    "    print('   |   |')\n",
    "    print('-----------')\n",
    "    print('   |   |')\n",
    "    print(' ' + board[1] + ' | ' + board[2] + ' | ' + board[3])\n"
   ]
  },
  {
   "cell_type": "code",
   "execution_count": 2,
   "id": "1e40bec4",
   "metadata": {},
   "outputs": [],
   "source": [
    "# Input of the Player you have\n",
    "\n",
    "def player_input():\n",
    "    marker = ''\n",
    "    \n",
    "    while not (marker == 'X' or marker == 'O'):\n",
    "        marker = input('Player 1: Do you want to be X or O? ').upper()\n",
    "\n",
    "    if marker == 'X':\n",
    "        return ('X', 'O')\n",
    "    else:\n",
    "        return ('O', 'X')"
   ]
  },
  {
   "cell_type": "code",
   "execution_count": 3,
   "id": "a5aa3acf",
   "metadata": {},
   "outputs": [],
   "source": [
    "# Add the marker for your input in the board\n",
    "\n",
    "def place_marker(board, marker, position):\n",
    "    board[position]=marker\n",
    "    "
   ]
  },
  {
   "cell_type": "code",
   "execution_count": 4,
   "id": "26052ea0",
   "metadata": {},
   "outputs": [],
   "source": [
    "# Checking for the board in winning \n",
    "\n",
    "def win_check(board, mark):\n",
    "    return ((board[7] == mark and board[8] == mark and board[9] == mark) or # across the top\n",
    "    (board[4] == mark and board[5] == mark and board[6] == mark) or # across the middle\n",
    "    (board[1] == mark and board[2] == mark and board[3] == mark) or # across the bottom\n",
    "    (board[7] == mark and board[4] == mark and board[1] == mark) or # down the middle\n",
    "    (board[8] == mark and board[5] == mark and board[2] == mark) or # down the middle\n",
    "    (board[9] == mark and board[6] == mark and board[3] == mark) or # down the right side\n",
    "    (board[7] == mark and board[5] == mark and board[3] == mark) or # diagonal\n",
    "    (board[9] == mark and board[5] == mark and board[1] == mark)) # diagonal"
   ]
  },
  {
   "cell_type": "code",
   "execution_count": 5,
   "id": "6f980996",
   "metadata": {},
   "outputs": [],
   "source": [
    "#Randomly select the players:\n",
    "\n",
    "import random\n",
    "\n",
    "def choose_first():\n",
    "    if random.randint(0,1)==0:\n",
    "        return 'Palyer 2'\n",
    "    else:\n",
    "        return 'player 1'"
   ]
  },
  {
   "cell_type": "code",
   "execution_count": 6,
   "id": "46eb2ad5",
   "metadata": {},
   "outputs": [],
   "source": [
    "#check for the empty spaces in the board\n",
    "\n",
    "def space_check(board, position):\n",
    "    return board[position] == ' '"
   ]
  },
  {
   "cell_type": "code",
   "execution_count": 7,
   "id": "989a30e1",
   "metadata": {},
   "outputs": [],
   "source": [
    "# Check for the Full board to check for the win\n",
    "\n",
    "def full_board_check(board):\n",
    "    for i in range(1,10):\n",
    "        if space_check(board, i):\n",
    "            return False\n",
    "    return True"
   ]
  },
  {
   "cell_type": "code",
   "execution_count": 8,
   "id": "2b7b6218",
   "metadata": {},
   "outputs": [],
   "source": [
    "# Checking the Player Choice\n",
    "\n",
    "def player_choice(board):\n",
    "    position = 0\n",
    "    \n",
    "    while position not in [1,2,3,4,5,6,7,8,9] or not space_check(board, position):\n",
    "        position = int(input('Choose your next position: (1-9) '))\n",
    "        \n",
    "    return position"
   ]
  },
  {
   "cell_type": "code",
   "execution_count": 9,
   "id": "6c4310c1",
   "metadata": {},
   "outputs": [],
   "source": [
    "# Replay if it is no\n",
    "\n",
    "def replay():\n",
    "    return input('Do you want to play again? Enter Yes or No: ').lower().startswith('y')"
   ]
  },
  {
   "cell_type": "code",
   "execution_count": 10,
   "id": "941c8e10",
   "metadata": {},
   "outputs": [
    {
     "name": "stdout",
     "output_type": "stream",
     "text": [
      "   |   |\n",
      " O |   |  \n",
      "   |   |\n",
      "-----------\n",
      "   |   |\n",
      " X | O | X\n",
      "   |   |\n",
      "-----------\n",
      "   |   |\n",
      " O | X | O\n",
      "Congratulations! You have won the game!\n",
      "Do you want to play again? Enter Yes or No: 8\n",
      "No replay at all\n"
     ]
    }
   ],
   "source": [
    "# Main Game is starting now\n",
    "\n",
    "print('Welcome to Tic Tac Toe!')\n",
    "\n",
    "theBoard = [' ']*10\n",
    "player_one,player_two=player_input()\n",
    "turn= choose_first()\n",
    "print(turn+'will go first')\n",
    "play_game=input('Are you ready to play y or n')\n",
    "\n",
    "if play_game.lower()[0]=='y':\n",
    "    start = True\n",
    "else:\n",
    "    start = False\n",
    "    \n",
    "#while True:\n",
    "    # Set the game up here\n",
    "    #pass\n",
    "\n",
    "    #while game_on:\n",
    "        #Player 1 Turn\n",
    "        \n",
    "        \n",
    "while start:\n",
    "    if turn == 'Player 1':\n",
    "        display_board(theBoard)\n",
    "        position = player_choice(theBoard)\n",
    "        place_marker(theBoard,player_one,position)\n",
    "        \n",
    "        if win_check(theBoard,player_one):\n",
    "            display_board(theBoard)\n",
    "            print('Congratulations! You have won the game!')\n",
    "            start = False\n",
    "        else:\n",
    "            if full_board_check(theBoard):\n",
    "                display_board(theBoard)\n",
    "                print('it is Draw')\n",
    "                break\n",
    "            else:\n",
    "                turn = 'Player 2'\n",
    "    \n",
    "    else:\n",
    "        \n",
    "    #Player 2 Turn\n",
    "        display_board(theBoard)\n",
    "        position = player_choice(theBoard)\n",
    "        place_marker(theBoard,player_two,position)\n",
    "        \n",
    "        if win_check(theBoard,player_two):\n",
    "            display_board(theBoard)\n",
    "            print('Congratulations! You have won the game!')\n",
    "            start = False\n",
    "        else:\n",
    "            if full_board_check(theBoard):\n",
    "                display_board(theBoard)\n",
    "                print('it is Draw')\n",
    "                break\n",
    "            else:\n",
    "                turn = 'Player 1'\n",
    "    \n",
    "if not replay():\n",
    "    print('No replay at all')\n",
    "        "
   ]
  },
  {
   "cell_type": "code",
   "execution_count": null,
   "id": "c92b6152",
   "metadata": {},
   "outputs": [],
   "source": []
  }
 ],
 "metadata": {
  "kernelspec": {
   "display_name": "Python 3",
   "language": "python",
   "name": "python3"
  },
  "language_info": {
   "codemirror_mode": {
    "name": "ipython",
    "version": 3
   },
   "file_extension": ".py",
   "mimetype": "text/x-python",
   "name": "python",
   "nbconvert_exporter": "python",
   "pygments_lexer": "ipython3",
   "version": "3.8.8"
  }
 },
 "nbformat": 4,
 "nbformat_minor": 5
}
